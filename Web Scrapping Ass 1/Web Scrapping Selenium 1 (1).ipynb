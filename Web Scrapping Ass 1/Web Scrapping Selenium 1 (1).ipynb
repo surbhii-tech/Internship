{
 "cells": [
  {
   "cell_type": "code",
   "execution_count": 1,
   "id": "c7a448ec",
   "metadata": {},
   "outputs": [
    {
     "name": "stdout",
     "output_type": "stream",
     "text": [
      "Defaulting to user installation because normal site-packages is not writeable\n",
      "Collecting selenium\n",
      "  Using cached selenium-4.7.2-py3-none-any.whl (6.3 MB)\n",
      "Collecting trio~=0.17\n",
      "  Downloading trio-0.22.0-py3-none-any.whl (384 kB)\n",
      "Requirement already satisfied: certifi>=2021.10.8 in c:\\programdata\\anaconda3\\lib\\site-packages (from selenium) (2021.10.8)\n",
      "Requirement already satisfied: urllib3[socks]~=1.26 in c:\\programdata\\anaconda3\\lib\\site-packages (from selenium) (1.26.9)\n",
      "Collecting trio-websocket~=0.9\n",
      "  Downloading trio_websocket-0.9.2-py3-none-any.whl (16 kB)\n",
      "Collecting exceptiongroup>=1.0.0rc9\n",
      "  Downloading exceptiongroup-1.1.0-py3-none-any.whl (14 kB)\n",
      "Requirement already satisfied: sniffio in c:\\programdata\\anaconda3\\lib\\site-packages (from trio~=0.17->selenium) (1.2.0)\n",
      "Requirement already satisfied: attrs>=19.2.0 in c:\\programdata\\anaconda3\\lib\\site-packages (from trio~=0.17->selenium) (21.4.0)\n",
      "Collecting async-generator>=1.9\n",
      "  Downloading async_generator-1.10-py3-none-any.whl (18 kB)\n",
      "Requirement already satisfied: sortedcontainers in c:\\programdata\\anaconda3\\lib\\site-packages (from trio~=0.17->selenium) (2.4.0)\n",
      "Requirement already satisfied: idna in c:\\programdata\\anaconda3\\lib\\site-packages (from trio~=0.17->selenium) (3.3)\n",
      "Collecting outcome\n",
      "  Downloading outcome-1.2.0-py2.py3-none-any.whl (9.7 kB)\n",
      "Requirement already satisfied: cffi>=1.14 in c:\\programdata\\anaconda3\\lib\\site-packages (from trio~=0.17->selenium) (1.15.0)\n",
      "Requirement already satisfied: pycparser in c:\\programdata\\anaconda3\\lib\\site-packages (from cffi>=1.14->trio~=0.17->selenium) (2.21)\n",
      "Collecting wsproto>=0.14\n",
      "  Downloading wsproto-1.2.0-py3-none-any.whl (24 kB)\n",
      "Requirement already satisfied: PySocks!=1.5.7,<2.0,>=1.5.6 in c:\\programdata\\anaconda3\\lib\\site-packages (from urllib3[socks]~=1.26->selenium) (1.7.1)\n",
      "Collecting h11<1,>=0.9.0\n",
      "  Downloading h11-0.14.0-py3-none-any.whl (58 kB)\n",
      "Installing collected packages: outcome, h11, exceptiongroup, async-generator, wsproto, trio, trio-websocket, selenium\n",
      "Successfully installed async-generator-1.10 exceptiongroup-1.1.0 h11-0.14.0 outcome-1.2.0 selenium-4.7.2 trio-0.22.0 trio-websocket-0.9.2 wsproto-1.2.0\n"
     ]
    }
   ],
   "source": [
    "!pip install selenium"
   ]
  },
  {
   "cell_type": "code",
   "execution_count": 1,
   "id": "e7729cd8",
   "metadata": {},
   "outputs": [],
   "source": [
    "import selenium\n",
    "import pandas as pd\n",
    "from selenium import webdriver\n",
    "from selenium.webdriver.common.by import By\n",
    "import warnings\n",
    "warnings.filterwarnings(\"ignore\")\n",
    "import time"
   ]
  },
  {
   "cell_type": "markdown",
   "id": "d6267567",
   "metadata": {},
   "source": [
    "We have downloaded the webDriver for Web Browser\n",
    "\n",
    "Now we connect to driver by any one of 2 methods below"
   ]
  },
  {
   "cell_type": "markdown",
   "id": "dc71ead2",
   "metadata": {},
   "source": [
    "# Question 1"
   ]
  },
  {
   "cell_type": "code",
   "execution_count": 5,
   "id": "3f234e94",
   "metadata": {},
   "outputs": [],
   "source": [
    "driver=webdriver.Chrome(r\"F:\\Internship\\chromedriver_win32\\chromedriver.exe\")"
   ]
  },
  {
   "cell_type": "code",
   "execution_count": 6,
   "id": "744d8f68",
   "metadata": {},
   "outputs": [],
   "source": [
    "driver=webdriver.Chrome(r\"chromedriver.exe\")"
   ]
  },
  {
   "cell_type": "code",
   "execution_count": 7,
   "id": "bb8d7b7d",
   "metadata": {},
   "outputs": [],
   "source": [
    "#Opening the naukri \n",
    "driver.get(\"https://www.naukri.com/\")"
   ]
  },
  {
   "cell_type": "code",
   "execution_count": 156,
   "id": "916831c6",
   "metadata": {},
   "outputs": [],
   "source": [
    "designation=driver.find_element(By.CLASS_NAME,\"suggestor-input\")\n",
    "designation.send_keys('Data Analyst')"
   ]
  },
  {
   "cell_type": "code",
   "execution_count": 157,
   "id": "e8064cbe",
   "metadata": {},
   "outputs": [],
   "source": [
    "location=driver.find_element(By.XPATH,\"/html/body/div[1]/div[6]/div/div/div[5]/div/div/div/input\")\n",
    "location.send_keys('Bangalore')"
   ]
  },
  {
   "cell_type": "code",
   "execution_count": 158,
   "id": "eb351e0c",
   "metadata": {},
   "outputs": [],
   "source": [
    "search=driver.find_element(By.CLASS_NAME,\"qsbSubmit\")\n",
    "search.click()"
   ]
  },
  {
   "cell_type": "code",
   "execution_count": 159,
   "id": "addd4242",
   "metadata": {},
   "outputs": [],
   "source": [
    "title=[]\n",
    "location=[]\n",
    "company=[]\n",
    "experience=[]"
   ]
  },
  {
   "cell_type": "code",
   "execution_count": 160,
   "id": "317a333a",
   "metadata": {},
   "outputs": [],
   "source": [
    "title_tags=driver.find_elements(By.XPATH,'//a[@class=\"title ellipsis\"]')\n",
    "for i in title_tags[0:10]:\n",
    "    title_tags=i.text\n",
    "    title.append(title_tags)\n",
    "\n",
    "\n",
    "location_tags=driver.find_elements(By.XPATH,'//li[@class=\"fleft br2 placeHolderLi location\"]')\n",
    "for i in location_tags[0:10]:\n",
    "    location_tags=i.text\n",
    "    location.append(location_tags)\n",
    "    \n",
    "    \n",
    "company_tags=driver.find_elements(By.XPATH,'//a[@class=\"subTitle ellipsis fleft\"]')\n",
    "for i in company_tags[0:10]:\n",
    "    company_tags=i.text\n",
    "    company.append(company_tags)\n",
    "\n",
    "    \n",
    "exp_tags=driver.find_elements(By.XPATH,'//li[@class=\"fleft br2 placeHolderLi experience\"]')\n",
    "for i in exp_tags[0:10]:\n",
    "    exp_tags=i.text\n",
    "    experience.append(exp_tags)"
   ]
  },
  {
   "cell_type": "code",
   "execution_count": 161,
   "id": "ee663231",
   "metadata": {},
   "outputs": [
    {
     "name": "stdout",
     "output_type": "stream",
     "text": [
      "10 10 10 10\n"
     ]
    }
   ],
   "source": [
    "print(len(title),len(location),len(company),len(experience))"
   ]
  },
  {
   "cell_type": "code",
   "execution_count": 162,
   "id": "4da5be95",
   "metadata": {},
   "outputs": [
    {
     "data": {
      "text/html": [
       "<div>\n",
       "<style scoped>\n",
       "    .dataframe tbody tr th:only-of-type {\n",
       "        vertical-align: middle;\n",
       "    }\n",
       "\n",
       "    .dataframe tbody tr th {\n",
       "        vertical-align: top;\n",
       "    }\n",
       "\n",
       "    .dataframe thead th {\n",
       "        text-align: right;\n",
       "    }\n",
       "</style>\n",
       "<table border=\"1\" class=\"dataframe\">\n",
       "  <thead>\n",
       "    <tr style=\"text-align: right;\">\n",
       "      <th></th>\n",
       "      <th>Title</th>\n",
       "      <th>Location</th>\n",
       "      <th>Company</th>\n",
       "      <th>Experience</th>\n",
       "    </tr>\n",
       "  </thead>\n",
       "  <tbody>\n",
       "    <tr>\n",
       "      <th>0</th>\n",
       "      <td>Data Analyst/Senior Analyst - R/SQL/Python</td>\n",
       "      <td>Temp. WFH - Bangalore/Bengaluru, Kolkata, Mumb...</td>\n",
       "      <td>The Nikharv Consultancy</td>\n",
       "      <td>3-6 Yrs</td>\n",
       "    </tr>\n",
       "    <tr>\n",
       "      <th>1</th>\n",
       "      <td>Data Analyst</td>\n",
       "      <td>Bangalore/Bengaluru</td>\n",
       "      <td>Target</td>\n",
       "      <td>2-4 Yrs</td>\n",
       "    </tr>\n",
       "    <tr>\n",
       "      <th>2</th>\n",
       "      <td>data analyst / data analytics - US MNC (analyt...</td>\n",
       "      <td>Temp. WFH - Bangalore/Bengaluru, Gurgaon/Gurugram</td>\n",
       "      <td>Aspyra Hr Services</td>\n",
       "      <td>3-8 Yrs</td>\n",
       "    </tr>\n",
       "    <tr>\n",
       "      <th>3</th>\n",
       "      <td>Data Analyst (Jr/Sr)</td>\n",
       "      <td>Bangalore/Bengaluru</td>\n",
       "      <td>Pole To Win (PTW)</td>\n",
       "      <td>1-4 Yrs</td>\n",
       "    </tr>\n",
       "    <tr>\n",
       "      <th>4</th>\n",
       "      <td>Business Data Analyst (Sr Exe / Asst Manager)</td>\n",
       "      <td>Bangalore/Bengaluru</td>\n",
       "      <td>Talentleads</td>\n",
       "      <td>3-5 Yrs</td>\n",
       "    </tr>\n",
       "    <tr>\n",
       "      <th>5</th>\n",
       "      <td>Junior Data Analyst/ Scientist- Fresher Position</td>\n",
       "      <td>Hybrid - Bangalore/Bengaluru, New Delhi, Mumba...</td>\n",
       "      <td>Sejal Consulting Hub</td>\n",
       "      <td>0-5 Yrs</td>\n",
       "    </tr>\n",
       "    <tr>\n",
       "      <th>6</th>\n",
       "      <td>Data Analysts - Compliance Surveillance</td>\n",
       "      <td>Hybrid - Bangalore/Bengaluru</td>\n",
       "      <td>Standard Chartered Bank</td>\n",
       "      <td>4-9 Yrs</td>\n",
       "    </tr>\n",
       "    <tr>\n",
       "      <th>7</th>\n",
       "      <td>Sr Data Analyst</td>\n",
       "      <td>Hybrid - Bangalore/Bengaluru</td>\n",
       "      <td>Amolitalents</td>\n",
       "      <td>6-9 Yrs</td>\n",
       "    </tr>\n",
       "    <tr>\n",
       "      <th>8</th>\n",
       "      <td>Job Opportunity with Leading MNC - Senior Data...</td>\n",
       "      <td>Bangalore/Bengaluru</td>\n",
       "      <td>Enrich And Enlight Business Consulting</td>\n",
       "      <td>5-7 Yrs</td>\n",
       "    </tr>\n",
       "    <tr>\n",
       "      <th>9</th>\n",
       "      <td>Manager/Senior Manager - Data Analyst</td>\n",
       "      <td>Bangalore/Bengaluru, Mumbai, Hyderabad/Secunde...</td>\n",
       "      <td>Huquo Consulting Pvt. Ltd</td>\n",
       "      <td>2-7 Yrs</td>\n",
       "    </tr>\n",
       "  </tbody>\n",
       "</table>\n",
       "</div>"
      ],
      "text/plain": [
       "                                               Title  \\\n",
       "0         Data Analyst/Senior Analyst - R/SQL/Python   \n",
       "1                                       Data Analyst   \n",
       "2  data analyst / data analytics - US MNC (analyt...   \n",
       "3                               Data Analyst (Jr/Sr)   \n",
       "4      Business Data Analyst (Sr Exe / Asst Manager)   \n",
       "5   Junior Data Analyst/ Scientist- Fresher Position   \n",
       "6            Data Analysts - Compliance Surveillance   \n",
       "7                                    Sr Data Analyst   \n",
       "8  Job Opportunity with Leading MNC - Senior Data...   \n",
       "9              Manager/Senior Manager - Data Analyst   \n",
       "\n",
       "                                            Location  \\\n",
       "0  Temp. WFH - Bangalore/Bengaluru, Kolkata, Mumb...   \n",
       "1                                Bangalore/Bengaluru   \n",
       "2  Temp. WFH - Bangalore/Bengaluru, Gurgaon/Gurugram   \n",
       "3                                Bangalore/Bengaluru   \n",
       "4                                Bangalore/Bengaluru   \n",
       "5  Hybrid - Bangalore/Bengaluru, New Delhi, Mumba...   \n",
       "6                       Hybrid - Bangalore/Bengaluru   \n",
       "7                       Hybrid - Bangalore/Bengaluru   \n",
       "8                                Bangalore/Bengaluru   \n",
       "9  Bangalore/Bengaluru, Mumbai, Hyderabad/Secunde...   \n",
       "\n",
       "                                  Company Experience  \n",
       "0                 The Nikharv Consultancy    3-6 Yrs  \n",
       "1                                  Target    2-4 Yrs  \n",
       "2                      Aspyra Hr Services    3-8 Yrs  \n",
       "3                       Pole To Win (PTW)    1-4 Yrs  \n",
       "4                             Talentleads    3-5 Yrs  \n",
       "5                    Sejal Consulting Hub    0-5 Yrs  \n",
       "6                 Standard Chartered Bank    4-9 Yrs  \n",
       "7                            Amolitalents    6-9 Yrs  \n",
       "8  Enrich And Enlight Business Consulting    5-7 Yrs  \n",
       "9               Huquo Consulting Pvt. Ltd    2-7 Yrs  "
      ]
     },
     "execution_count": 162,
     "metadata": {},
     "output_type": "execute_result"
    }
   ],
   "source": [
    "df=pd.DataFrame({'Title':title,'Location':location,'Company':company,'Experience':experience})\n",
    "df"
   ]
  },
  {
   "cell_type": "markdown",
   "id": "29236565",
   "metadata": {},
   "source": [
    "# Question 2 "
   ]
  },
  {
   "cell_type": "code",
   "execution_count": 163,
   "id": "9f120674",
   "metadata": {},
   "outputs": [],
   "source": [
    "driver=webdriver.Chrome(r\"F:\\Internship\\chromedriver_win32\\chromedriver.exe\")"
   ]
  },
  {
   "cell_type": "code",
   "execution_count": 164,
   "id": "8494fd95",
   "metadata": {},
   "outputs": [],
   "source": [
    "#Opening the naukri \n",
    "driver.get(\"https://www.naukri.com/\")"
   ]
  },
  {
   "cell_type": "code",
   "execution_count": 165,
   "id": "6c4442c5",
   "metadata": {},
   "outputs": [],
   "source": [
    "designation=driver.find_element(By.CLASS_NAME,\"suggestor-input\")\n",
    "designation.send_keys('Data Scientist')"
   ]
  },
  {
   "cell_type": "code",
   "execution_count": 166,
   "id": "a482815e",
   "metadata": {},
   "outputs": [],
   "source": [
    "location=driver.find_element(By.XPATH,\"/html/body/div[1]/div[6]/div/div/div[5]/div/div/div/input\")\n",
    "location.send_keys('Banglore')"
   ]
  },
  {
   "cell_type": "code",
   "execution_count": 167,
   "id": "9d340472",
   "metadata": {},
   "outputs": [],
   "source": [
    "search=driver.find_element(By.CLASS_NAME,\"qsbSubmit\")\n",
    "search.click()"
   ]
  },
  {
   "cell_type": "code",
   "execution_count": 168,
   "id": "2d26db6c",
   "metadata": {},
   "outputs": [],
   "source": [
    "title=[]\n",
    "location=[]\n",
    "company=[]\n",
    "experience=[]"
   ]
  },
  {
   "cell_type": "code",
   "execution_count": 169,
   "id": "fd01de8a",
   "metadata": {},
   "outputs": [],
   "source": [
    "title_tags=driver.find_elements(By.XPATH,'//a[@class=\"title ellipsis\"]')\n",
    "for i in title_tags[0:10]:\n",
    "    title_tags=i.text\n",
    "    title.append(title_tags)\n",
    "\n",
    "\n",
    "location_tags=driver.find_elements(By.XPATH,'//li[@class=\"fleft br2 placeHolderLi location\"]')\n",
    "for i in location_tags[0:10]:\n",
    "    location_tags=i.text\n",
    "    location.append(location_tags)\n",
    "    \n",
    "    \n",
    "company_tags=driver.find_elements(By.XPATH,'//a[@class=\"subTitle ellipsis fleft\"]')\n",
    "for i in company_tags[0:10]:\n",
    "    company_tags=i.text\n",
    "    company.append(company_tags)\n",
    "\n",
    "    \n",
    "exp_tags=driver.find_elements(By.XPATH,'//li[@class=\"fleft br2 placeHolderLi experience\"]')\n",
    "for i in exp_tags[0:10]:\n",
    "    exp_tags=i.text\n",
    "    experience.append(exp_tags)"
   ]
  },
  {
   "cell_type": "code",
   "execution_count": 170,
   "id": "6e4cfba8",
   "metadata": {},
   "outputs": [
    {
     "name": "stdout",
     "output_type": "stream",
     "text": [
      "10 10 10 10\n"
     ]
    }
   ],
   "source": [
    "print(len(title),len(location),len(company),len(experience))"
   ]
  },
  {
   "cell_type": "code",
   "execution_count": 171,
   "id": "3641a9be",
   "metadata": {},
   "outputs": [
    {
     "data": {
      "text/html": [
       "<div>\n",
       "<style scoped>\n",
       "    .dataframe tbody tr th:only-of-type {\n",
       "        vertical-align: middle;\n",
       "    }\n",
       "\n",
       "    .dataframe tbody tr th {\n",
       "        vertical-align: top;\n",
       "    }\n",
       "\n",
       "    .dataframe thead th {\n",
       "        text-align: right;\n",
       "    }\n",
       "</style>\n",
       "<table border=\"1\" class=\"dataframe\">\n",
       "  <thead>\n",
       "    <tr style=\"text-align: right;\">\n",
       "      <th></th>\n",
       "      <th>Title</th>\n",
       "      <th>Location</th>\n",
       "      <th>Company</th>\n",
       "      <th>Experience</th>\n",
       "    </tr>\n",
       "  </thead>\n",
       "  <tbody>\n",
       "    <tr>\n",
       "      <th>0</th>\n",
       "      <td>Data Scientist</td>\n",
       "      <td>Noida, Kolkata, Mumbai, Hyderabad/Secunderabad...</td>\n",
       "      <td>Capgemini</td>\n",
       "      <td>9-14 Yrs</td>\n",
       "    </tr>\n",
       "    <tr>\n",
       "      <th>1</th>\n",
       "      <td>Data Scientist</td>\n",
       "      <td>Temp. WFH - Hyderabad/Secunderabad, Pune, Chen...</td>\n",
       "      <td>Tech Mahindra</td>\n",
       "      <td>7-12 Yrs</td>\n",
       "    </tr>\n",
       "    <tr>\n",
       "      <th>2</th>\n",
       "      <td>Data Science Specialist</td>\n",
       "      <td>Kolkata, Mumbai, Hyderabad/Secunderabad, Pune,...</td>\n",
       "      <td>Accenture</td>\n",
       "      <td>2-4 Yrs</td>\n",
       "    </tr>\n",
       "    <tr>\n",
       "      <th>3</th>\n",
       "      <td>Analystics &amp; Modeling Specialist</td>\n",
       "      <td>Kolkata, Mumbai, Hyderabad/Secunderabad, Pune,...</td>\n",
       "      <td>Accenture</td>\n",
       "      <td>6-8 Yrs</td>\n",
       "    </tr>\n",
       "    <tr>\n",
       "      <th>4</th>\n",
       "      <td>Lead Data Scientist</td>\n",
       "      <td>Noida, Hyderabad/Secunderabad, Pune, Chennai, ...</td>\n",
       "      <td>Birlasoft</td>\n",
       "      <td>8-12 Yrs</td>\n",
       "    </tr>\n",
       "    <tr>\n",
       "      <th>5</th>\n",
       "      <td>Data Scientist</td>\n",
       "      <td>Hybrid - Noida, Hyderabad/Secunderabad, Pune, ...</td>\n",
       "      <td>Birlasoft</td>\n",
       "      <td>8-12 Yrs</td>\n",
       "    </tr>\n",
       "    <tr>\n",
       "      <th>6</th>\n",
       "      <td>Data Scientist</td>\n",
       "      <td>Bangalore/Bengaluru</td>\n",
       "      <td>ANZ</td>\n",
       "      <td>2-7 Yrs</td>\n",
       "    </tr>\n",
       "    <tr>\n",
       "      <th>7</th>\n",
       "      <td>Data Scientist Knowledge graph</td>\n",
       "      <td>Hybrid - Pune, Bangalore/Bengaluru</td>\n",
       "      <td>Capco</td>\n",
       "      <td>7-12 Yrs</td>\n",
       "    </tr>\n",
       "    <tr>\n",
       "      <th>8</th>\n",
       "      <td>Data Scientist</td>\n",
       "      <td>Bangalore/Bengaluru</td>\n",
       "      <td>Infosys</td>\n",
       "      <td>3-5 Yrs</td>\n",
       "    </tr>\n",
       "    <tr>\n",
       "      <th>9</th>\n",
       "      <td>Supply Chain Specialist Staff</td>\n",
       "      <td>Bangalore/Bengaluru</td>\n",
       "      <td>Juniper Networks</td>\n",
       "      <td>7-11 Yrs</td>\n",
       "    </tr>\n",
       "  </tbody>\n",
       "</table>\n",
       "</div>"
      ],
      "text/plain": [
       "                              Title  \\\n",
       "0                    Data Scientist   \n",
       "1                    Data Scientist   \n",
       "2           Data Science Specialist   \n",
       "3  Analystics & Modeling Specialist   \n",
       "4               Lead Data Scientist   \n",
       "5                    Data Scientist   \n",
       "6                    Data Scientist   \n",
       "7    Data Scientist Knowledge graph   \n",
       "8                    Data Scientist   \n",
       "9     Supply Chain Specialist Staff   \n",
       "\n",
       "                                            Location           Company  \\\n",
       "0  Noida, Kolkata, Mumbai, Hyderabad/Secunderabad...         Capgemini   \n",
       "1  Temp. WFH - Hyderabad/Secunderabad, Pune, Chen...     Tech Mahindra   \n",
       "2  Kolkata, Mumbai, Hyderabad/Secunderabad, Pune,...         Accenture   \n",
       "3  Kolkata, Mumbai, Hyderabad/Secunderabad, Pune,...         Accenture   \n",
       "4  Noida, Hyderabad/Secunderabad, Pune, Chennai, ...         Birlasoft   \n",
       "5  Hybrid - Noida, Hyderabad/Secunderabad, Pune, ...         Birlasoft   \n",
       "6                                Bangalore/Bengaluru               ANZ   \n",
       "7                 Hybrid - Pune, Bangalore/Bengaluru             Capco   \n",
       "8                                Bangalore/Bengaluru           Infosys   \n",
       "9                                Bangalore/Bengaluru  Juniper Networks   \n",
       "\n",
       "  Experience  \n",
       "0   9-14 Yrs  \n",
       "1   7-12 Yrs  \n",
       "2    2-4 Yrs  \n",
       "3    6-8 Yrs  \n",
       "4   8-12 Yrs  \n",
       "5   8-12 Yrs  \n",
       "6    2-7 Yrs  \n",
       "7   7-12 Yrs  \n",
       "8    3-5 Yrs  \n",
       "9   7-11 Yrs  "
      ]
     },
     "execution_count": 171,
     "metadata": {},
     "output_type": "execute_result"
    }
   ],
   "source": [
    "df=pd.DataFrame({'Title':title,'Location':location,'Company':company,'Experience':experience})\n",
    "df"
   ]
  },
  {
   "cell_type": "markdown",
   "id": "cf35f728",
   "metadata": {},
   "source": [
    "# Question 3"
   ]
  },
  {
   "cell_type": "code",
   "execution_count": 232,
   "id": "23e36764",
   "metadata": {},
   "outputs": [],
   "source": [
    "driver=webdriver.Chrome(r\"F:\\Internship\\chromedriver_win32\\chromedriver.exe\")"
   ]
  },
  {
   "cell_type": "code",
   "execution_count": 233,
   "id": "0689bd0d",
   "metadata": {},
   "outputs": [],
   "source": [
    "#Opening the naukri \n",
    "driver.get(\"https://www.naukri.com/\")"
   ]
  },
  {
   "cell_type": "code",
   "execution_count": 234,
   "id": "9d12eb08",
   "metadata": {},
   "outputs": [],
   "source": [
    "designation=driver.find_element(By.CLASS_NAME,\"suggestor-input\")\n",
    "designation.send_keys('Data Scientist')"
   ]
  },
  {
   "cell_type": "code",
   "execution_count": 235,
   "id": "559182c3",
   "metadata": {},
   "outputs": [],
   "source": [
    "search=driver.find_element(By.CLASS_NAME,\"qsbSubmit\")\n",
    "search.click()"
   ]
  },
  {
   "cell_type": "code",
   "execution_count": 237,
   "id": "3690fdf9",
   "metadata": {},
   "outputs": [],
   "source": [
    "location_delhi=driver.find_element(By.XPATH,'/html/body/div[1]/div[4]/div/div/section[1]/div[2]/div[5]/div[2]/div[2]/label/p/span[1]')\n",
    "location_delhi.click()"
   ]
  },
  {
   "cell_type": "code",
   "execution_count": 238,
   "id": "bdfb5c60",
   "metadata": {},
   "outputs": [],
   "source": [
    "salary_filter=driver.find_element(By.XPATH,'/html/body/div[1]/div[4]/div/div/section[1]/div[2]/div[6]/div[2]/div[2]/label/p/span[1]')\n",
    "salary_filter.click()"
   ]
  },
  {
   "cell_type": "code",
   "execution_count": 239,
   "id": "8864049b",
   "metadata": {},
   "outputs": [],
   "source": [
    "title=[]\n",
    "location=[]\n",
    "company=[]\n",
    "experience=[]"
   ]
  },
  {
   "cell_type": "code",
   "execution_count": 240,
   "id": "f00c37a4",
   "metadata": {},
   "outputs": [],
   "source": [
    "title_tags=driver.find_elements(By.XPATH,'//a[@class=\"title ellipsis\"]')\n",
    "for i in title_tags[0:10]:\n",
    "    title_tags=i.text\n",
    "    title.append(title_tags)\n",
    "    \n",
    "location_tags=driver.find_elements(By.XPATH,'//li[@class=\"fleft br2 placeHolderLi location\"]')\n",
    "for i in location_tags[0:10]:\n",
    "    location_tags=i.text\n",
    "    location.append(location_tags)\n",
    "    \n",
    "    \n",
    "company_tags=driver.find_elements(By.XPATH,'//a[@class=\"subTitle ellipsis fleft\"]')\n",
    "for i in company_tags[0:10]:\n",
    "    company_tags=i.text\n",
    "    company.append(company_tags)\n",
    "\n",
    "    \n",
    "exp_tags=driver.find_elements(By.XPATH,'//li[@class=\"fleft br2 placeHolderLi experience\"]')\n",
    "for i in exp_tags[0:10]:\n",
    "    exp_tags=i.text\n",
    "    experience.append(exp_tags)"
   ]
  },
  {
   "cell_type": "code",
   "execution_count": 241,
   "id": "3eb41629",
   "metadata": {},
   "outputs": [
    {
     "name": "stdout",
     "output_type": "stream",
     "text": [
      "10 10 10 10\n"
     ]
    }
   ],
   "source": [
    "print(len(title),len(location),len(company),len(experience))"
   ]
  },
  {
   "cell_type": "code",
   "execution_count": 242,
   "id": "fc34e58a",
   "metadata": {},
   "outputs": [
    {
     "data": {
      "text/html": [
       "<div>\n",
       "<style scoped>\n",
       "    .dataframe tbody tr th:only-of-type {\n",
       "        vertical-align: middle;\n",
       "    }\n",
       "\n",
       "    .dataframe tbody tr th {\n",
       "        vertical-align: top;\n",
       "    }\n",
       "\n",
       "    .dataframe thead th {\n",
       "        text-align: right;\n",
       "    }\n",
       "</style>\n",
       "<table border=\"1\" class=\"dataframe\">\n",
       "  <thead>\n",
       "    <tr style=\"text-align: right;\">\n",
       "      <th></th>\n",
       "      <th>Title</th>\n",
       "      <th>Location</th>\n",
       "      <th>Company</th>\n",
       "      <th>Experience</th>\n",
       "    </tr>\n",
       "  </thead>\n",
       "  <tbody>\n",
       "    <tr>\n",
       "      <th>0</th>\n",
       "      <td>Analyst-Data Science</td>\n",
       "      <td>Gurgaon/Gurugram</td>\n",
       "      <td>AMERICAN EXPRESS</td>\n",
       "      <td>0-3 Yrs</td>\n",
       "    </tr>\n",
       "    <tr>\n",
       "      <th>1</th>\n",
       "      <td>Data Scientist</td>\n",
       "      <td>Noida</td>\n",
       "      <td>Gujarat Fluorochemicals</td>\n",
       "      <td>1-2 Yrs</td>\n",
       "    </tr>\n",
       "    <tr>\n",
       "      <th>2</th>\n",
       "      <td>Data Scientist</td>\n",
       "      <td>Delhi / NCR, Noida(Sector-136 Noida), Ghaziaba...</td>\n",
       "      <td>Extramarks Education</td>\n",
       "      <td>3-5 Yrs</td>\n",
       "    </tr>\n",
       "    <tr>\n",
       "      <th>3</th>\n",
       "      <td>AWS Data Warehouse Developer - IT Industry</td>\n",
       "      <td>Delhi / NCR, Bangalore/Bengaluru, Maharashtra</td>\n",
       "      <td>GenNext India Private Limited</td>\n",
       "      <td>4-9 Yrs</td>\n",
       "    </tr>\n",
       "    <tr>\n",
       "      <th>4</th>\n",
       "      <td>Data Scientist</td>\n",
       "      <td>Permanent Remote</td>\n",
       "      <td>Vizlogic Digital Solutions</td>\n",
       "      <td>2-5 Yrs</td>\n",
       "    </tr>\n",
       "    <tr>\n",
       "      <th>5</th>\n",
       "      <td>Data Scientist</td>\n",
       "      <td>Noida</td>\n",
       "      <td>Metrix Research &amp; Analytics</td>\n",
       "      <td>3-7 Yrs</td>\n",
       "    </tr>\n",
       "    <tr>\n",
       "      <th>6</th>\n",
       "      <td>Data Scientist</td>\n",
       "      <td>Dehradun, Hyderabad/Secunderabad, Gurgaon/Guru...</td>\n",
       "      <td>torcai digital media</td>\n",
       "      <td>2-7 Yrs</td>\n",
       "    </tr>\n",
       "    <tr>\n",
       "      <th>7</th>\n",
       "      <td>Junior Data Scientist</td>\n",
       "      <td>Delhi / NCR</td>\n",
       "      <td>Skyleaf Consultants</td>\n",
       "      <td>2-4 Yrs</td>\n",
       "    </tr>\n",
       "    <tr>\n",
       "      <th>8</th>\n",
       "      <td>Modeler</td>\n",
       "      <td>Noida</td>\n",
       "      <td>Resource Access Management Solutions Pvt. Ltd.</td>\n",
       "      <td>3-7 Yrs</td>\n",
       "    </tr>\n",
       "    <tr>\n",
       "      <th>9</th>\n",
       "      <td>Associate Data Scientist</td>\n",
       "      <td>Noida</td>\n",
       "      <td>Navikenz India</td>\n",
       "      <td>3-8 Yrs</td>\n",
       "    </tr>\n",
       "  </tbody>\n",
       "</table>\n",
       "</div>"
      ],
      "text/plain": [
       "                                        Title  \\\n",
       "0                        Analyst-Data Science   \n",
       "1                              Data Scientist   \n",
       "2                              Data Scientist   \n",
       "3  AWS Data Warehouse Developer - IT Industry   \n",
       "4                              Data Scientist   \n",
       "5                              Data Scientist   \n",
       "6                              Data Scientist   \n",
       "7                       Junior Data Scientist   \n",
       "8                                     Modeler   \n",
       "9                    Associate Data Scientist   \n",
       "\n",
       "                                            Location  \\\n",
       "0                                   Gurgaon/Gurugram   \n",
       "1                                              Noida   \n",
       "2  Delhi / NCR, Noida(Sector-136 Noida), Ghaziaba...   \n",
       "3      Delhi / NCR, Bangalore/Bengaluru, Maharashtra   \n",
       "4                                   Permanent Remote   \n",
       "5                                              Noida   \n",
       "6  Dehradun, Hyderabad/Secunderabad, Gurgaon/Guru...   \n",
       "7                                        Delhi / NCR   \n",
       "8                                              Noida   \n",
       "9                                              Noida   \n",
       "\n",
       "                                          Company Experience  \n",
       "0                                AMERICAN EXPRESS    0-3 Yrs  \n",
       "1                         Gujarat Fluorochemicals    1-2 Yrs  \n",
       "2                            Extramarks Education    3-5 Yrs  \n",
       "3                   GenNext India Private Limited    4-9 Yrs  \n",
       "4                      Vizlogic Digital Solutions    2-5 Yrs  \n",
       "5                     Metrix Research & Analytics    3-7 Yrs  \n",
       "6                            torcai digital media    2-7 Yrs  \n",
       "7                             Skyleaf Consultants    2-4 Yrs  \n",
       "8  Resource Access Management Solutions Pvt. Ltd.    3-7 Yrs  \n",
       "9                                  Navikenz India    3-8 Yrs  "
      ]
     },
     "execution_count": 242,
     "metadata": {},
     "output_type": "execute_result"
    }
   ],
   "source": [
    "df=pd.DataFrame({'Title':title,'Location':location,'Company':company,'Experience':experience})\n",
    "df"
   ]
  },
  {
   "cell_type": "markdown",
   "id": "d65db4b8",
   "metadata": {},
   "source": [
    "# Question 4"
   ]
  },
  {
   "cell_type": "code",
   "execution_count": 13,
   "id": "61947169",
   "metadata": {},
   "outputs": [],
   "source": [
    "driver=webdriver.Chrome(r\"F:\\Internship\\chromedriver_win32\\chromedriver.exe\")"
   ]
  },
  {
   "cell_type": "code",
   "execution_count": 14,
   "id": "d0c249ed",
   "metadata": {},
   "outputs": [],
   "source": [
    "driver.get(\"http://www.flipkart.com/\")"
   ]
  },
  {
   "cell_type": "code",
   "execution_count": 15,
   "id": "bbfdd264",
   "metadata": {},
   "outputs": [],
   "source": [
    "product=driver.find_element(By.CLASS_NAME,\"_3704LK\")\n",
    "product.send_keys('sunglasses')"
   ]
  },
  {
   "cell_type": "code",
   "execution_count": 16,
   "id": "81573ff8",
   "metadata": {},
   "outputs": [],
   "source": [
    "search=driver.find_element(By.CLASS_NAME,\"L0Z3Pu\")\n",
    "search.click()"
   ]
  },
  {
   "cell_type": "code",
   "execution_count": 17,
   "id": "48991a91",
   "metadata": {},
   "outputs": [],
   "source": [
    "Name=[]\n",
    "Price=[]\n",
    "Discount=[]\n",
    "experience=[]"
   ]
  },
  {
   "cell_type": "code",
   "execution_count": 18,
   "id": "3b601369",
   "metadata": {},
   "outputs": [],
   "source": [
    "start=0\n",
    "end=3\n",
    "for page in range(start,end):\n",
    "    Name_tags=driver.find_elements(By.XPATH,'//div[@class=\"_2WkVRV\"]')\n",
    "    for i in Name_tags[0:100]:\n",
    "        Name.append(i.text)\n",
    "    NEXT_button=driver.find_element(By.XPATH,'//a[@class=\"_1LKTO3\"]')\n",
    "    NEXT_button.click()\n",
    "    time.sleep(3)\n",
    "    \n",
    "    \n",
    "start=0\n",
    "end=3\n",
    "for page in range(start,end):\n",
    "    Price_tags=driver.find_elements(By.XPATH,'//div[@class=\"_3I9_wc\"]')\n",
    "    for i in Price_tags[0:100]:\n",
    "        Price.append(i.text)\n",
    "    NEXT_button=driver.find_element(By.XPATH,'//a[@class=\"_1LKTO3\"]')\n",
    "    NEXT_button.click()\n",
    "    time.sleep(3)\n",
    "\n",
    "\n",
    "start=0\n",
    "end=3\n",
    "for page in range(start,end):\n",
    "    Discount_tags=driver.find_elements(By.XPATH,'//div[@class=\"_30jeq3\"]')\n",
    "    for i in Discount_tags[0:100]:\n",
    "        Discount.append(i.text)\n",
    "    NEXT_button=driver.find_element(By.XPATH,'//a[@class=\"_1LKTO3\"]')\n",
    "    NEXT_button.click()\n",
    "    time.sleep(3)\n"
   ]
  },
  {
   "cell_type": "code",
   "execution_count": 19,
   "id": "372d523a",
   "metadata": {},
   "outputs": [
    {
     "name": "stdout",
     "output_type": "stream",
     "text": [
      "120 120 120\n"
     ]
    }
   ],
   "source": [
    "print(len(Name),len(Price),len(Discount))"
   ]
  },
  {
   "cell_type": "code",
   "execution_count": 20,
   "id": "fc59f3d9",
   "metadata": {},
   "outputs": [
    {
     "data": {
      "text/html": [
       "<div>\n",
       "<style scoped>\n",
       "    .dataframe tbody tr th:only-of-type {\n",
       "        vertical-align: middle;\n",
       "    }\n",
       "\n",
       "    .dataframe tbody tr th {\n",
       "        vertical-align: top;\n",
       "    }\n",
       "\n",
       "    .dataframe thead th {\n",
       "        text-align: right;\n",
       "    }\n",
       "</style>\n",
       "<table border=\"1\" class=\"dataframe\">\n",
       "  <thead>\n",
       "    <tr style=\"text-align: right;\">\n",
       "      <th></th>\n",
       "      <th>Sunglasses</th>\n",
       "      <th>Price</th>\n",
       "      <th>Discount</th>\n",
       "    </tr>\n",
       "  </thead>\n",
       "  <tbody>\n",
       "    <tr>\n",
       "      <th>0</th>\n",
       "      <td>CART2DEAL</td>\n",
       "      <td>₹1,999</td>\n",
       "      <td>₹637</td>\n",
       "    </tr>\n",
       "    <tr>\n",
       "      <th>1</th>\n",
       "      <td>IRUS</td>\n",
       "      <td>₹1,199</td>\n",
       "      <td>₹1,244</td>\n",
       "    </tr>\n",
       "    <tr>\n",
       "      <th>2</th>\n",
       "      <td>Fastrack</td>\n",
       "      <td>₹1,497</td>\n",
       "      <td>₹599</td>\n",
       "    </tr>\n",
       "    <tr>\n",
       "      <th>3</th>\n",
       "      <td>Elligator</td>\n",
       "      <td>₹1,999</td>\n",
       "      <td>₹149</td>\n",
       "    </tr>\n",
       "    <tr>\n",
       "      <th>4</th>\n",
       "      <td>Elligator</td>\n",
       "      <td>₹1,499</td>\n",
       "      <td>₹499</td>\n",
       "    </tr>\n",
       "    <tr>\n",
       "      <th>...</th>\n",
       "      <td>...</td>\n",
       "      <td>...</td>\n",
       "      <td>...</td>\n",
       "    </tr>\n",
       "    <tr>\n",
       "      <th>95</th>\n",
       "      <td>CART2DEAL</td>\n",
       "      <td>₹1,199</td>\n",
       "      <td>₹404</td>\n",
       "    </tr>\n",
       "    <tr>\n",
       "      <th>96</th>\n",
       "      <td>VINCENT CHASE</td>\n",
       "      <td>₹1,299</td>\n",
       "      <td>₹599</td>\n",
       "    </tr>\n",
       "    <tr>\n",
       "      <th>97</th>\n",
       "      <td>New Specs</td>\n",
       "      <td>₹875</td>\n",
       "      <td>₹149</td>\n",
       "    </tr>\n",
       "    <tr>\n",
       "      <th>98</th>\n",
       "      <td>Elligator</td>\n",
       "      <td>₹1,999</td>\n",
       "      <td>₹259</td>\n",
       "    </tr>\n",
       "    <tr>\n",
       "      <th>99</th>\n",
       "      <td>Prism</td>\n",
       "      <td>₹2,700</td>\n",
       "      <td>₹540</td>\n",
       "    </tr>\n",
       "  </tbody>\n",
       "</table>\n",
       "<p>100 rows × 3 columns</p>\n",
       "</div>"
      ],
      "text/plain": [
       "       Sunglasses   Price Discount\n",
       "0       CART2DEAL  ₹1,999     ₹637\n",
       "1            IRUS  ₹1,199   ₹1,244\n",
       "2        Fastrack  ₹1,497     ₹599\n",
       "3       Elligator  ₹1,999     ₹149\n",
       "4       Elligator  ₹1,499     ₹499\n",
       "..            ...     ...      ...\n",
       "95      CART2DEAL  ₹1,199     ₹404\n",
       "96  VINCENT CHASE  ₹1,299     ₹599\n",
       "97      New Specs    ₹875     ₹149\n",
       "98      Elligator  ₹1,999     ₹259\n",
       "99          Prism  ₹2,700     ₹540\n",
       "\n",
       "[100 rows x 3 columns]"
      ]
     },
     "execution_count": 20,
     "metadata": {},
     "output_type": "execute_result"
    }
   ],
   "source": [
    "df=pd.DataFrame({'Sunglasses':Name[0:100],'Price':Price[0:100],'Discount':Discount[0:100]})\n",
    "df"
   ]
  },
  {
   "cell_type": "markdown",
   "id": "43eede71",
   "metadata": {},
   "source": [
    "# Question 5"
   ]
  },
  {
   "cell_type": "code",
   "execution_count": 8,
   "id": "04dd151e",
   "metadata": {},
   "outputs": [],
   "source": [
    "driver=webdriver.Chrome(r\"F:\\Internship\\chromedriver_win32\\chromedriver.exe\")"
   ]
  },
  {
   "cell_type": "code",
   "execution_count": 401,
   "id": "bae4028e",
   "metadata": {},
   "outputs": [],
   "source": [
    "driver.get(\"https://www.flipkart.com/apple-iphone-11-black-64-gb-includes-earpods-power-adapter/product-reviews/itm0f37c2240b217?pid=MOBFKCTSVZAXUHGR&lid=LSTMOBFKCTSVZAXUHGREPBFGI&marketplace=FLIPKART\")"
   ]
  },
  {
   "cell_type": "code",
   "execution_count": 402,
   "id": "b0227c40",
   "metadata": {},
   "outputs": [],
   "source": [
    "Rating=[]\n",
    "Review_Summary=[]\n",
    "Full_Review=[]"
   ]
  },
  {
   "cell_type": "code",
   "execution_count": 403,
   "id": "8a535813",
   "metadata": {},
   "outputs": [],
   "source": [
    "start=0\n",
    "end=10\n",
    "for page in range(start,end):\n",
    "    Rating_tags=driver.find_elements(By.XPATH,'//div[@class=\"_3LWZlK _1BLPMq\"]')\n",
    "    for i in Rating_tags:\n",
    "        Rating.append(i.text)\n",
    "    NEXT_button=driver.find_element(By.XPATH,'//a[@class=\"_1LKTO3\"]')\n",
    "    NEXT_button.click()\n",
    "    time.sleep(3)"
   ]
  },
  {
   "cell_type": "code",
   "execution_count": 404,
   "id": "95588c9c",
   "metadata": {},
   "outputs": [],
   "source": [
    "start=0\n",
    "end=10\n",
    "for page in range(start,end):\n",
    "    Review_tags=driver.find_elements(By.XPATH,'//p[@class=\"_2-N8zT\"]')\n",
    "    for i in Review_tags:\n",
    "        Review_Summary.append(i.text)\n",
    "    NEXT_button=driver.find_element(By.XPATH,'//a[@class=\"_1LKTO3\"]')\n",
    "    NEXT_button.click()\n",
    "    time.sleep(3)"
   ]
  },
  {
   "cell_type": "code",
   "execution_count": 405,
   "id": "c77297d0",
   "metadata": {},
   "outputs": [],
   "source": [
    "start=0\n",
    "end=10\n",
    "for page in range(start,end):\n",
    "    FullReview_tags=driver.find_elements(By.XPATH,'//div[@class=\"t-ZTKy\"]')\n",
    "    for i in FullReview_tags:\n",
    "        Full_Review.append(i.text)\n",
    "    NEXT_button=driver.find_element(By.XPATH,'//a[@class=\"_1LKTO3\"]')\n",
    "    NEXT_button.click()\n",
    "    time.sleep(3)"
   ]
  },
  {
   "cell_type": "code",
   "execution_count": 406,
   "id": "f6bfce21",
   "metadata": {},
   "outputs": [
    {
     "name": "stdout",
     "output_type": "stream",
     "text": [
      "100 100 100\n"
     ]
    }
   ],
   "source": [
    "print(len(Rating),len(Review_Summary),len(Full_Review))"
   ]
  },
  {
   "cell_type": "code",
   "execution_count": 407,
   "id": "da041674",
   "metadata": {},
   "outputs": [
    {
     "data": {
      "text/html": [
       "<div>\n",
       "<style scoped>\n",
       "    .dataframe tbody tr th:only-of-type {\n",
       "        vertical-align: middle;\n",
       "    }\n",
       "\n",
       "    .dataframe tbody tr th {\n",
       "        vertical-align: top;\n",
       "    }\n",
       "\n",
       "    .dataframe thead th {\n",
       "        text-align: right;\n",
       "    }\n",
       "</style>\n",
       "<table border=\"1\" class=\"dataframe\">\n",
       "  <thead>\n",
       "    <tr style=\"text-align: right;\">\n",
       "      <th></th>\n",
       "      <th>Rating</th>\n",
       "      <th>Review_Summary</th>\n",
       "      <th>Full_Review</th>\n",
       "    </tr>\n",
       "  </thead>\n",
       "  <tbody>\n",
       "    <tr>\n",
       "      <th>0</th>\n",
       "      <td>5</td>\n",
       "      <td>Simply awesome</td>\n",
       "      <td>Really satisfied with the Product I received.....</td>\n",
       "    </tr>\n",
       "    <tr>\n",
       "      <th>1</th>\n",
       "      <td>5</td>\n",
       "      <td>Perfect product!</td>\n",
       "      <td>Amazing phone with great cameras and better ba...</td>\n",
       "    </tr>\n",
       "    <tr>\n",
       "      <th>2</th>\n",
       "      <td>5</td>\n",
       "      <td>Best in the market!</td>\n",
       "      <td>Great iPhone very snappy experience as apple k...</td>\n",
       "    </tr>\n",
       "    <tr>\n",
       "      <th>3</th>\n",
       "      <td>4</td>\n",
       "      <td>Value-for-money</td>\n",
       "      <td>I'm Really happy with the product\\nDelivery wa...</td>\n",
       "    </tr>\n",
       "    <tr>\n",
       "      <th>4</th>\n",
       "      <td>5</td>\n",
       "      <td>Highly recommended</td>\n",
       "      <td>It's my first time to use iOS phone and I am l...</td>\n",
       "    </tr>\n",
       "    <tr>\n",
       "      <th>...</th>\n",
       "      <td>...</td>\n",
       "      <td>...</td>\n",
       "      <td>...</td>\n",
       "    </tr>\n",
       "    <tr>\n",
       "      <th>95</th>\n",
       "      <td>4</td>\n",
       "      <td>Good choice</td>\n",
       "      <td>So far it’s been an AMAZING experience coming ...</td>\n",
       "    </tr>\n",
       "    <tr>\n",
       "      <th>96</th>\n",
       "      <td>5</td>\n",
       "      <td>Perfect product!</td>\n",
       "      <td>Value for money❤️❤️\\nIts awesome mobile phone ...</td>\n",
       "    </tr>\n",
       "    <tr>\n",
       "      <th>97</th>\n",
       "      <td>5</td>\n",
       "      <td>Perfect product!</td>\n",
       "      <td>It is just awesome mobile for this price from ...</td>\n",
       "    </tr>\n",
       "    <tr>\n",
       "      <th>98</th>\n",
       "      <td>5</td>\n",
       "      <td>Highly recommended</td>\n",
       "      <td>iphone 11 is a very good phone to buy only if ...</td>\n",
       "    </tr>\n",
       "    <tr>\n",
       "      <th>99</th>\n",
       "      <td>5</td>\n",
       "      <td>Highly recommended</td>\n",
       "      <td>Amazing camera quality as expected, battery al...</td>\n",
       "    </tr>\n",
       "  </tbody>\n",
       "</table>\n",
       "<p>100 rows × 3 columns</p>\n",
       "</div>"
      ],
      "text/plain": [
       "   Rating       Review_Summary  \\\n",
       "0       5       Simply awesome   \n",
       "1       5     Perfect product!   \n",
       "2       5  Best in the market!   \n",
       "3       4      Value-for-money   \n",
       "4       5   Highly recommended   \n",
       "..    ...                  ...   \n",
       "95      4          Good choice   \n",
       "96      5     Perfect product!   \n",
       "97      5     Perfect product!   \n",
       "98      5   Highly recommended   \n",
       "99      5   Highly recommended   \n",
       "\n",
       "                                          Full_Review  \n",
       "0   Really satisfied with the Product I received.....  \n",
       "1   Amazing phone with great cameras and better ba...  \n",
       "2   Great iPhone very snappy experience as apple k...  \n",
       "3   I'm Really happy with the product\\nDelivery wa...  \n",
       "4   It's my first time to use iOS phone and I am l...  \n",
       "..                                                ...  \n",
       "95  So far it’s been an AMAZING experience coming ...  \n",
       "96  Value for money❤️❤️\\nIts awesome mobile phone ...  \n",
       "97  It is just awesome mobile for this price from ...  \n",
       "98  iphone 11 is a very good phone to buy only if ...  \n",
       "99  Amazing camera quality as expected, battery al...  \n",
       "\n",
       "[100 rows x 3 columns]"
      ]
     },
     "execution_count": 407,
     "metadata": {},
     "output_type": "execute_result"
    }
   ],
   "source": [
    "df=pd.DataFrame({'Rating':Rating,'Review_Summary':Review_Summary,'Full_Review':Full_Review})\n",
    "df"
   ]
  },
  {
   "cell_type": "markdown",
   "id": "10e1c6e8",
   "metadata": {},
   "source": [
    "# Question 6"
   ]
  },
  {
   "cell_type": "code",
   "execution_count": 143,
   "id": "5077ba6d",
   "metadata": {},
   "outputs": [],
   "source": [
    "driver=webdriver.Chrome(r\"F:\\Internship\\chromedriver_win32\\chromedriver.exe\")"
   ]
  },
  {
   "cell_type": "code",
   "execution_count": 144,
   "id": "aeda2c18",
   "metadata": {},
   "outputs": [],
   "source": [
    "driver.get(\"http://www.flipkart.com/\")"
   ]
  },
  {
   "cell_type": "code",
   "execution_count": 145,
   "id": "718872b4",
   "metadata": {},
   "outputs": [],
   "source": [
    "product=driver.find_element(By.CLASS_NAME,\"_3704LK\")\n",
    "product.send_keys('sneakers')"
   ]
  },
  {
   "cell_type": "code",
   "execution_count": 147,
   "id": "1ff1ad37",
   "metadata": {},
   "outputs": [],
   "source": [
    "search=driver.find_element(By.CLASS_NAME,\"L0Z3Pu\")\n",
    "search.click()"
   ]
  },
  {
   "cell_type": "code",
   "execution_count": 148,
   "id": "4289f169",
   "metadata": {},
   "outputs": [],
   "source": [
    "Brand=[]\n",
    "Description=[]\n",
    "Price=[]"
   ]
  },
  {
   "cell_type": "code",
   "execution_count": 149,
   "id": "b9bef689",
   "metadata": {},
   "outputs": [],
   "source": [
    "start=0\n",
    "end=3\n",
    "for page in range(start,end):\n",
    "    Brand_tags=driver.find_elements(By.XPATH,'//div[@class=\"_2WkVRV\"]')\n",
    "    for i in Brand_tags[0:100]:\n",
    "        Brand.append(i.text)\n",
    "    NEXT_button=driver.find_element(By.XPATH,'//a[@class=\"_1LKTO3\"]')\n",
    "    NEXT_button.click()\n",
    "    time.sleep(3)"
   ]
  },
  {
   "cell_type": "code",
   "execution_count": 150,
   "id": "9348be85",
   "metadata": {},
   "outputs": [],
   "source": [
    "start=0\n",
    "end=3\n",
    "for page in range(start,end):\n",
    "    Description_tags=driver.find_elements(By.XPATH,'//a[@class=\"IRpwTa\"]')\n",
    "    for i in Description_tags[0:100]:\n",
    "        Description.append(i.text)\n",
    "    NEXT_button=driver.find_element(By.XPATH,'//a[@class=\"_1LKTO3\"]')\n",
    "    NEXT_button.click()\n",
    "    time.sleep(3)"
   ]
  },
  {
   "cell_type": "code",
   "execution_count": 151,
   "id": "da4aa274",
   "metadata": {},
   "outputs": [],
   "source": [
    "start=0\n",
    "end=3\n",
    "for page in range(start,end):\n",
    "    Price_tags=driver.find_elements(By.XPATH,'//div[@class=\"_30jeq3\"]')\n",
    "    for i in Price_tags[0:100]:\n",
    "        Price.append(i.text)\n",
    "    NEXT_button=driver.find_element(By.XPATH,'//a[@class=\"_1LKTO3\"]')\n",
    "    NEXT_button.click()\n",
    "    time.sleep(3)"
   ]
  },
  {
   "cell_type": "code",
   "execution_count": 155,
   "id": "fb29ce0c",
   "metadata": {},
   "outputs": [
    {
     "name": "stdout",
     "output_type": "stream",
     "text": [
      "100 100 100\n"
     ]
    }
   ],
   "source": [
    "print(len(Brand[0:100]),len(Description[0:100]),len(Price[0:100]))"
   ]
  },
  {
   "cell_type": "code",
   "execution_count": 156,
   "id": "32bad285",
   "metadata": {},
   "outputs": [
    {
     "data": {
      "text/html": [
       "<div>\n",
       "<style scoped>\n",
       "    .dataframe tbody tr th:only-of-type {\n",
       "        vertical-align: middle;\n",
       "    }\n",
       "\n",
       "    .dataframe tbody tr th {\n",
       "        vertical-align: top;\n",
       "    }\n",
       "\n",
       "    .dataframe thead th {\n",
       "        text-align: right;\n",
       "    }\n",
       "</style>\n",
       "<table border=\"1\" class=\"dataframe\">\n",
       "  <thead>\n",
       "    <tr style=\"text-align: right;\">\n",
       "      <th></th>\n",
       "      <th>Brand</th>\n",
       "      <th>Product_Description</th>\n",
       "      <th>Price</th>\n",
       "    </tr>\n",
       "  </thead>\n",
       "  <tbody>\n",
       "    <tr>\n",
       "      <th>0</th>\n",
       "      <td>BRUTON</td>\n",
       "      <td>GAIMAN 2.O Sneakers For Men</td>\n",
       "      <td>₹599</td>\n",
       "    </tr>\n",
       "    <tr>\n",
       "      <th>1</th>\n",
       "      <td>BRUTON</td>\n",
       "      <td>fuzor B Sneakers For Men</td>\n",
       "      <td>₹599</td>\n",
       "    </tr>\n",
       "    <tr>\n",
       "      <th>2</th>\n",
       "      <td>aadi</td>\n",
       "      <td>HL-WV-00109942 Sneakers For Men</td>\n",
       "      <td>₹434</td>\n",
       "    </tr>\n",
       "    <tr>\n",
       "      <th>3</th>\n",
       "      <td>World Wear Footwear</td>\n",
       "      <td>Platform Chunky Trainer/Sneakers -BOOM Mid Top...</td>\n",
       "      <td>₹399</td>\n",
       "    </tr>\n",
       "    <tr>\n",
       "      <th>4</th>\n",
       "      <td>SFR</td>\n",
       "      <td>Sneakers For Women</td>\n",
       "      <td>₹399</td>\n",
       "    </tr>\n",
       "    <tr>\n",
       "      <th>...</th>\n",
       "      <td>...</td>\n",
       "      <td>...</td>\n",
       "      <td>...</td>\n",
       "    </tr>\n",
       "    <tr>\n",
       "      <th>95</th>\n",
       "      <td>LE GREEM</td>\n",
       "      <td>x KL Columbus Sneakers For Men</td>\n",
       "      <td>₹699</td>\n",
       "    </tr>\n",
       "    <tr>\n",
       "      <th>96</th>\n",
       "      <td>Deals4you</td>\n",
       "      <td>Sneakers For Men</td>\n",
       "      <td>₹449</td>\n",
       "    </tr>\n",
       "    <tr>\n",
       "      <th>97</th>\n",
       "      <td>Kzaara</td>\n",
       "      <td>DT-SS22-128B Sneakers For Men</td>\n",
       "      <td>₹329</td>\n",
       "    </tr>\n",
       "    <tr>\n",
       "      <th>98</th>\n",
       "      <td>aadi</td>\n",
       "      <td>PANAL Sneakers For Men</td>\n",
       "      <td>₹419</td>\n",
       "    </tr>\n",
       "    <tr>\n",
       "      <th>99</th>\n",
       "      <td>RED CHIEF</td>\n",
       "      <td>Mesh |Lightweight|Comfort|Summer|Trendy|Walkin...</td>\n",
       "      <td>₹750</td>\n",
       "    </tr>\n",
       "  </tbody>\n",
       "</table>\n",
       "<p>100 rows × 3 columns</p>\n",
       "</div>"
      ],
      "text/plain": [
       "                  Brand                                Product_Description  \\\n",
       "0                BRUTON                        GAIMAN 2.O Sneakers For Men   \n",
       "1                BRUTON                           fuzor B Sneakers For Men   \n",
       "2                  aadi                    HL-WV-00109942 Sneakers For Men   \n",
       "3   World Wear Footwear  Platform Chunky Trainer/Sneakers -BOOM Mid Top...   \n",
       "4                   SFR                                 Sneakers For Women   \n",
       "..                  ...                                                ...   \n",
       "95             LE GREEM                     x KL Columbus Sneakers For Men   \n",
       "96            Deals4you                                   Sneakers For Men   \n",
       "97               Kzaara                      DT-SS22-128B Sneakers For Men   \n",
       "98                 aadi                             PANAL Sneakers For Men   \n",
       "99            RED CHIEF  Mesh |Lightweight|Comfort|Summer|Trendy|Walkin...   \n",
       "\n",
       "   Price  \n",
       "0   ₹599  \n",
       "1   ₹599  \n",
       "2   ₹434  \n",
       "3   ₹399  \n",
       "4   ₹399  \n",
       "..   ...  \n",
       "95  ₹699  \n",
       "96  ₹449  \n",
       "97  ₹329  \n",
       "98  ₹419  \n",
       "99  ₹750  \n",
       "\n",
       "[100 rows x 3 columns]"
      ]
     },
     "execution_count": 156,
     "metadata": {},
     "output_type": "execute_result"
    }
   ],
   "source": [
    "df=pd.DataFrame({'Brand':Brand[0:100],'Product_Description':Description[0:100],'Price':Price[0:100]})\n",
    "df"
   ]
  },
  {
   "cell_type": "markdown",
   "id": "33cfd4f3",
   "metadata": {},
   "source": [
    "# Question 7"
   ]
  },
  {
   "cell_type": "code",
   "execution_count": 69,
   "id": "76b4e0a8",
   "metadata": {},
   "outputs": [],
   "source": [
    "driver=webdriver.Chrome(r\"F:\\Internship\\chromedriver_win32\\chromedriver.exe\")"
   ]
  },
  {
   "cell_type": "code",
   "execution_count": 70,
   "id": "1a9b5635",
   "metadata": {},
   "outputs": [],
   "source": [
    "driver.get(\"https://www.amazon.in/\")"
   ]
  },
  {
   "cell_type": "code",
   "execution_count": 71,
   "id": "282d5f46",
   "metadata": {},
   "outputs": [],
   "source": [
    "laptop=driver.find_element(By.ID,\"twotabsearchtextbox\")\n",
    "laptop.send_keys('Laptop')"
   ]
  },
  {
   "cell_type": "code",
   "execution_count": 72,
   "id": "1f230493",
   "metadata": {},
   "outputs": [],
   "source": [
    "search=driver.find_element(By.ID,\"nav-search-submit-button\")\n",
    "search.click()"
   ]
  },
  {
   "cell_type": "code",
   "execution_count": 74,
   "id": "4037de39",
   "metadata": {},
   "outputs": [],
   "source": [
    "type_icore7=driver.find_element(By.XPATH,'/html/body/div[1]/div[2]/div[1]/div[2]/div/div[3]/span/div[1]/div/div/div[6]/ul[6]/li[13]/span/a/span')\n",
    "type_icore7.click()"
   ]
  },
  {
   "cell_type": "code",
   "execution_count": 75,
   "id": "44b6ad23",
   "metadata": {},
   "outputs": [],
   "source": [
    "Title=[]\n",
    "Ratings=[]\n",
    "Price=[]"
   ]
  },
  {
   "cell_type": "code",
   "execution_count": 76,
   "id": "6df1663f",
   "metadata": {},
   "outputs": [],
   "source": [
    "Title_tags=driver.find_elements(By.XPATH,'//span[@class=\"a-size-medium a-color-base a-text-normal\"]')\n",
    "for i in Title_tags[0:10]:\n",
    "    Title.append(i.text)\n",
    "    \n",
    "\n",
    "Ratings_tags=driver.find_elements(By.XPATH,'//span[@class=\"a-size-base s-underline-text\"]')\n",
    "for i in Ratings_tags[0:10]:\n",
    "    Ratings.append(i.text)\n",
    "    \n",
    "Price_tags=driver.find_elements(By.XPATH,'//span[@class=\"a-price-whole\"]')\n",
    "for i in Price_tags[0:10]:\n",
    "    Price.append(i.text)"
   ]
  },
  {
   "cell_type": "code",
   "execution_count": 77,
   "id": "7f234b56",
   "metadata": {},
   "outputs": [
    {
     "name": "stdout",
     "output_type": "stream",
     "text": [
      "10 10 10\n"
     ]
    }
   ],
   "source": [
    "print(len(Title),len(Ratings),len(Price))"
   ]
  },
  {
   "cell_type": "code",
   "execution_count": 78,
   "id": "b7fa2214",
   "metadata": {},
   "outputs": [
    {
     "data": {
      "text/html": [
       "<div>\n",
       "<style scoped>\n",
       "    .dataframe tbody tr th:only-of-type {\n",
       "        vertical-align: middle;\n",
       "    }\n",
       "\n",
       "    .dataframe tbody tr th {\n",
       "        vertical-align: top;\n",
       "    }\n",
       "\n",
       "    .dataframe thead th {\n",
       "        text-align: right;\n",
       "    }\n",
       "</style>\n",
       "<table border=\"1\" class=\"dataframe\">\n",
       "  <thead>\n",
       "    <tr style=\"text-align: right;\">\n",
       "      <th></th>\n",
       "      <th>Title</th>\n",
       "      <th>Ratings</th>\n",
       "      <th>Price</th>\n",
       "    </tr>\n",
       "  </thead>\n",
       "  <tbody>\n",
       "    <tr>\n",
       "      <th>0</th>\n",
       "      <td>Fujitsu UH-X 11th Gen Intel Core i7 13.3\" FHD ...</td>\n",
       "      <td>91</td>\n",
       "      <td>94,990</td>\n",
       "    </tr>\n",
       "    <tr>\n",
       "      <th>1</th>\n",
       "      <td>LG Gram14 Intel EVO-[12th Gen Corei7/Win11/16G...</td>\n",
       "      <td>43</td>\n",
       "      <td>84,500</td>\n",
       "    </tr>\n",
       "    <tr>\n",
       "      <th>2</th>\n",
       "      <td>ASUS Vivobook 14, Intel Core i7-1165G7 11th Ge...</td>\n",
       "      <td>8</td>\n",
       "      <td>56,990</td>\n",
       "    </tr>\n",
       "    <tr>\n",
       "      <th>3</th>\n",
       "      <td>Acer Nitro 5 Gaming Laptop Intel core i7 11th ...</td>\n",
       "      <td>9</td>\n",
       "      <td>78,106</td>\n",
       "    </tr>\n",
       "    <tr>\n",
       "      <th>4</th>\n",
       "      <td>Lenovo IdeaPad Slim 5 12th Gen Intel Core i7 1...</td>\n",
       "      <td>67</td>\n",
       "      <td>79,990</td>\n",
       "    </tr>\n",
       "    <tr>\n",
       "      <th>5</th>\n",
       "      <td>HP Victus Gaming Latest 12th Gen Intel Core i7...</td>\n",
       "      <td>106</td>\n",
       "      <td>84,990</td>\n",
       "    </tr>\n",
       "    <tr>\n",
       "      <th>6</th>\n",
       "      <td>Lenovo IdeaPad Gaming 3 Intel Core i7-12700H 1...</td>\n",
       "      <td>14</td>\n",
       "      <td>99,990</td>\n",
       "    </tr>\n",
       "    <tr>\n",
       "      <th>7</th>\n",
       "      <td>HP Pavilion Plus, 12th Gen Intel Core i7 16GB ...</td>\n",
       "      <td>104</td>\n",
       "      <td>94,630</td>\n",
       "    </tr>\n",
       "    <tr>\n",
       "      <th>8</th>\n",
       "      <td>ASUS TUF Dash F15 (2022), 15.6-inch (39.62 cms...</td>\n",
       "      <td>13</td>\n",
       "      <td>1,44,990</td>\n",
       "    </tr>\n",
       "    <tr>\n",
       "      <th>9</th>\n",
       "      <td>Dell Alienware x14 Gaming Laptop, Intel i7-127...</td>\n",
       "      <td>15</td>\n",
       "      <td>1,69,990</td>\n",
       "    </tr>\n",
       "  </tbody>\n",
       "</table>\n",
       "</div>"
      ],
      "text/plain": [
       "                                               Title Ratings     Price\n",
       "0  Fujitsu UH-X 11th Gen Intel Core i7 13.3\" FHD ...      91    94,990\n",
       "1  LG Gram14 Intel EVO-[12th Gen Corei7/Win11/16G...      43    84,500\n",
       "2  ASUS Vivobook 14, Intel Core i7-1165G7 11th Ge...       8    56,990\n",
       "3  Acer Nitro 5 Gaming Laptop Intel core i7 11th ...       9    78,106\n",
       "4  Lenovo IdeaPad Slim 5 12th Gen Intel Core i7 1...      67    79,990\n",
       "5  HP Victus Gaming Latest 12th Gen Intel Core i7...     106    84,990\n",
       "6  Lenovo IdeaPad Gaming 3 Intel Core i7-12700H 1...      14    99,990\n",
       "7  HP Pavilion Plus, 12th Gen Intel Core i7 16GB ...     104    94,630\n",
       "8  ASUS TUF Dash F15 (2022), 15.6-inch (39.62 cms...      13  1,44,990\n",
       "9  Dell Alienware x14 Gaming Laptop, Intel i7-127...      15  1,69,990"
      ]
     },
     "execution_count": 78,
     "metadata": {},
     "output_type": "execute_result"
    }
   ],
   "source": [
    "df=pd.DataFrame({'Title':Title,'Ratings':Ratings,'Price':Price})\n",
    "df"
   ]
  },
  {
   "cell_type": "markdown",
   "id": "068cff1c",
   "metadata": {},
   "source": [
    "# Question 8"
   ]
  },
  {
   "cell_type": "code",
   "execution_count": 189,
   "id": "840b0035",
   "metadata": {},
   "outputs": [],
   "source": [
    "driver=webdriver.Chrome(r\"F:\\Internship\\chromedriver_win32\\chromedriver.exe\")"
   ]
  },
  {
   "cell_type": "code",
   "execution_count": 190,
   "id": "11f2ad0d",
   "metadata": {},
   "outputs": [],
   "source": [
    "driver.get(\"https://www.azquotes.com/\")"
   ]
  },
  {
   "cell_type": "code",
   "execution_count": 191,
   "id": "d5b62d2f",
   "metadata": {},
   "outputs": [],
   "source": [
    "Top_Quotes=driver.find_element(By.XPATH,'/html/body/div[1]/div[1]/div[1]/div/div[3]/ul/li[5]/a')\n",
    "Top_Quotes.click()"
   ]
  },
  {
   "cell_type": "code",
   "execution_count": 192,
   "id": "b1a1154f",
   "metadata": {},
   "outputs": [],
   "source": [
    "Quote=[]\n",
    "Author=[]\n",
    "Types_of_Quotes=[]"
   ]
  },
  {
   "cell_type": "code",
   "execution_count": 193,
   "id": "ae3307c7",
   "metadata": {},
   "outputs": [],
   "source": [
    "start=0\n",
    "end=10\n",
    "for page in range(start,end):\n",
    "    Quote_tags=driver.find_elements(By.XPATH,'//a[@class=\"title\"]')\n",
    "    for i in Quote_tags[0:1000]:\n",
    "        Quote.append(i.text)\n",
    "    NEXT_button=driver.find_element(By.XPATH,'/html/body/div[1]/div[2]/div/div/div/div[1]/div/div[3]/li[12]/a')\n",
    "    NEXT_button.click()\n",
    "    time.sleep(1)"
   ]
  },
  {
   "cell_type": "code",
   "execution_count": 194,
   "id": "6f11f286",
   "metadata": {},
   "outputs": [],
   "source": [
    "start=0\n",
    "end=10\n",
    "for page in range(start,end):\n",
    "    Author_tags=driver.find_elements(By.XPATH,'//div[@class=\"author\"]')\n",
    "    for i in Author_tags[0:1000]:\n",
    "        Author.append(i.text)\n",
    "    NEXT_button=driver.find_element(By.XPATH,'/html/body/div[1]/div[2]/div/div/div/div[1]/div/div[3]/li[12]/a')\n",
    "    NEXT_button.click()\n",
    "    time.sleep(1)"
   ]
  },
  {
   "cell_type": "code",
   "execution_count": 195,
   "id": "197c3202",
   "metadata": {},
   "outputs": [],
   "source": [
    "start=0\n",
    "end=10\n",
    "for page in range(start,end):\n",
    "    Types_tags=driver.find_elements(By.XPATH,'//div[@class=\"tags\"]')\n",
    "    for i in Types_tags[0:1000]:\n",
    "        Types_of_Quotes.append(i.text)\n",
    "    NEXT_button=driver.find_element(By.XPATH,'/html/body/div[1]/div[2]/div/div/div/div[1]/div/div[3]/li[12]/a')\n",
    "    NEXT_button.click()\n",
    "    time.sleep(1)"
   ]
  },
  {
   "cell_type": "code",
   "execution_count": 196,
   "id": "9d4069e2",
   "metadata": {},
   "outputs": [
    {
     "name": "stdout",
     "output_type": "stream",
     "text": [
      "1000 1000 1000\n"
     ]
    }
   ],
   "source": [
    "print(len(Quote),len(Author),len(Types_of_Quotes))"
   ]
  },
  {
   "cell_type": "code",
   "execution_count": 197,
   "id": "c13ca37a",
   "metadata": {},
   "outputs": [
    {
     "data": {
      "text/html": [
       "<div>\n",
       "<style scoped>\n",
       "    .dataframe tbody tr th:only-of-type {\n",
       "        vertical-align: middle;\n",
       "    }\n",
       "\n",
       "    .dataframe tbody tr th {\n",
       "        vertical-align: top;\n",
       "    }\n",
       "\n",
       "    .dataframe thead th {\n",
       "        text-align: right;\n",
       "    }\n",
       "</style>\n",
       "<table border=\"1\" class=\"dataframe\">\n",
       "  <thead>\n",
       "    <tr style=\"text-align: right;\">\n",
       "      <th></th>\n",
       "      <th>Quotes</th>\n",
       "      <th>Authors</th>\n",
       "      <th>Types of Quotes</th>\n",
       "    </tr>\n",
       "  </thead>\n",
       "  <tbody>\n",
       "    <tr>\n",
       "      <th>0</th>\n",
       "      <td>The essence of strategy is choosing what not t...</td>\n",
       "      <td>Amelia Earhart</td>\n",
       "      <td>Inspirational, Life, Success</td>\n",
       "    </tr>\n",
       "    <tr>\n",
       "      <th>1</th>\n",
       "      <td>One cannot and must not try to erase the past ...</td>\n",
       "      <td>Ludwig von Mises</td>\n",
       "      <td>Peace, War, Government</td>\n",
       "    </tr>\n",
       "    <tr>\n",
       "      <th>2</th>\n",
       "      <td>Patriotism means to stand by the country. It d...</td>\n",
       "      <td>Elizabeth Cady Stanton</td>\n",
       "      <td>Life, Strength, Courage</td>\n",
       "    </tr>\n",
       "    <tr>\n",
       "      <th>3</th>\n",
       "      <td>Death is something inevitable. When a man has ...</td>\n",
       "      <td>Benjamin Spock</td>\n",
       "      <td>Positive, Family, Trust</td>\n",
       "    </tr>\n",
       "    <tr>\n",
       "      <th>4</th>\n",
       "      <td>You have to love a nation that celebrates its ...</td>\n",
       "      <td>Charles Kettering</td>\n",
       "      <td>Inspirational, Motivational, Teacher</td>\n",
       "    </tr>\n",
       "    <tr>\n",
       "      <th>...</th>\n",
       "      <td>...</td>\n",
       "      <td>...</td>\n",
       "      <td>...</td>\n",
       "    </tr>\n",
       "    <tr>\n",
       "      <th>995</th>\n",
       "      <td>Regret for the things we did can be tempered b...</td>\n",
       "      <td>Sydney J. Harris</td>\n",
       "      <td>Love, Inspirational, Motivational</td>\n",
       "    </tr>\n",
       "    <tr>\n",
       "      <th>996</th>\n",
       "      <td>America... just a nation of two hundred millio...</td>\n",
       "      <td>Hunter S. Thompson</td>\n",
       "      <td>Gun, Two, Qualms About</td>\n",
       "    </tr>\n",
       "    <tr>\n",
       "      <th>997</th>\n",
       "      <td>For every disciplined effort there is a multip...</td>\n",
       "      <td>Jim Rohn</td>\n",
       "      <td>Inspirational, Greatness, Best Effort</td>\n",
       "    </tr>\n",
       "    <tr>\n",
       "      <th>998</th>\n",
       "      <td>The spiritual journey is individual, highly pe...</td>\n",
       "      <td>Ram Dass</td>\n",
       "      <td>Spiritual, Truth, Yoga</td>\n",
       "    </tr>\n",
       "    <tr>\n",
       "      <th>999</th>\n",
       "      <td>The mind is not a vessel to be filled but a fi...</td>\n",
       "      <td>Plutarch</td>\n",
       "      <td>Inspirational, Leadership, Education</td>\n",
       "    </tr>\n",
       "  </tbody>\n",
       "</table>\n",
       "<p>1000 rows × 3 columns</p>\n",
       "</div>"
      ],
      "text/plain": [
       "                                                Quotes  \\\n",
       "0    The essence of strategy is choosing what not t...   \n",
       "1    One cannot and must not try to erase the past ...   \n",
       "2    Patriotism means to stand by the country. It d...   \n",
       "3    Death is something inevitable. When a man has ...   \n",
       "4    You have to love a nation that celebrates its ...   \n",
       "..                                                 ...   \n",
       "995  Regret for the things we did can be tempered b...   \n",
       "996  America... just a nation of two hundred millio...   \n",
       "997  For every disciplined effort there is a multip...   \n",
       "998  The spiritual journey is individual, highly pe...   \n",
       "999  The mind is not a vessel to be filled but a fi...   \n",
       "\n",
       "                    Authors                        Types of Quotes  \n",
       "0            Amelia Earhart           Inspirational, Life, Success  \n",
       "1          Ludwig von Mises                 Peace, War, Government  \n",
       "2    Elizabeth Cady Stanton                Life, Strength, Courage  \n",
       "3            Benjamin Spock                Positive, Family, Trust  \n",
       "4         Charles Kettering   Inspirational, Motivational, Teacher  \n",
       "..                      ...                                    ...  \n",
       "995        Sydney J. Harris      Love, Inspirational, Motivational  \n",
       "996      Hunter S. Thompson                 Gun, Two, Qualms About  \n",
       "997                Jim Rohn  Inspirational, Greatness, Best Effort  \n",
       "998                Ram Dass                 Spiritual, Truth, Yoga  \n",
       "999                Plutarch   Inspirational, Leadership, Education  \n",
       "\n",
       "[1000 rows x 3 columns]"
      ]
     },
     "execution_count": 197,
     "metadata": {},
     "output_type": "execute_result"
    }
   ],
   "source": [
    "df=pd.DataFrame({'Quotes':Quote,'Authors':Author,'Types of Quotes':Types_of_Quotes})\n",
    "df"
   ]
  },
  {
   "cell_type": "markdown",
   "id": "c216fcd6",
   "metadata": {},
   "source": [
    "# Question 9"
   ]
  },
  {
   "cell_type": "code",
   "execution_count": 328,
   "id": "c29b3eb2",
   "metadata": {},
   "outputs": [],
   "source": [
    "driver=webdriver.Chrome(r\"F:\\Internship\\chromedriver_win32\\chromedriver.exe\")"
   ]
  },
  {
   "cell_type": "code",
   "execution_count": 329,
   "id": "1beeddb3",
   "metadata": {},
   "outputs": [],
   "source": [
    "driver.get(\"https://www.jagranjosh.com/\")"
   ]
  },
  {
   "cell_type": "code",
   "execution_count": 330,
   "id": "ae8d6f61",
   "metadata": {},
   "outputs": [],
   "source": [
    "GK=driver.find_element(By.XPATH,'/html/body/div/div[1]/div/div[1]/div/div[6]/div/div[1]/header/div[3]/ul/li[9]/a')\n",
    "GK.click()"
   ]
  },
  {
   "cell_type": "code",
   "execution_count": 331,
   "id": "06960345",
   "metadata": {},
   "outputs": [],
   "source": [
    "list_PM=driver.find_element(By.XPATH,'/html/body/div/div/div/div[2]/div/div[10]/div/div/ul/li[2]/a')\n",
    "list_PM.click()"
   ]
  },
  {
   "cell_type": "code",
   "execution_count": 332,
   "id": "6456e71b",
   "metadata": {},
   "outputs": [],
   "source": [
    "Name=[]\n",
    "Born_Dead=[]\n",
    "Tenure=[]\n",
    "Remark=[]"
   ]
  },
  {
   "cell_type": "code",
   "execution_count": 333,
   "id": "6d978dbc",
   "metadata": {},
   "outputs": [],
   "source": [
    "names = driver.find_elements(By.XPATH,'//div[@class=\"table-box\"]/table/tbody/tr/td[2]/p')\n",
    "for name in names:\n",
    "    Name.append(name.text)"
   ]
  },
  {
   "cell_type": "code",
   "execution_count": 22,
   "id": "24ec056a",
   "metadata": {},
   "outputs": [],
   "source": [
    "years = driver.find_elements(By.XPATH,'//div[@class=\"table-box\"]/table/tbody/tr/td[3]/p')\n",
    "for year in years:\n",
    "    Born_Dead.append(year.text)\n"
   ]
  },
  {
   "cell_type": "code",
   "execution_count": 335,
   "id": "d86ce8cc",
   "metadata": {},
   "outputs": [],
   "source": [
    "Term= driver.find_elements(By.XPATH,'//div[@class=\"table-box\"]/table/tbody/tr/td[4]/p')\n",
    "for i in Term[0:18]:\n",
    "    Tenure.append(i.text)"
   ]
  },
  {
   "cell_type": "code",
   "execution_count": 336,
   "id": "41a260f5",
   "metadata": {},
   "outputs": [],
   "source": [
    "Remark_Tags= driver.find_elements(By.XPATH,'//div[@class=\"table-box\"]/table/tbody/tr/td[5]/p')\n",
    "for i in Remark_Tags:\n",
    "    Remark.append(i.text)"
   ]
  },
  {
   "cell_type": "code",
   "execution_count": 337,
   "id": "9be9767c",
   "metadata": {},
   "outputs": [
    {
     "name": "stdout",
     "output_type": "stream",
     "text": [
      "18 18 18 18\n"
     ]
    }
   ],
   "source": [
    "print(len(Name),len(Born_Dead),len(Tenure),len(Remark))"
   ]
  },
  {
   "cell_type": "code",
   "execution_count": 338,
   "id": "508b0399",
   "metadata": {},
   "outputs": [
    {
     "data": {
      "text/html": [
       "<div>\n",
       "<style scoped>\n",
       "    .dataframe tbody tr th:only-of-type {\n",
       "        vertical-align: middle;\n",
       "    }\n",
       "\n",
       "    .dataframe tbody tr th {\n",
       "        vertical-align: top;\n",
       "    }\n",
       "\n",
       "    .dataframe thead th {\n",
       "        text-align: right;\n",
       "    }\n",
       "</style>\n",
       "<table border=\"1\" class=\"dataframe\">\n",
       "  <thead>\n",
       "    <tr style=\"text-align: right;\">\n",
       "      <th></th>\n",
       "      <th>PM Names</th>\n",
       "      <th>Born_Dead</th>\n",
       "      <th>Term of Office</th>\n",
       "      <th>Remarks</th>\n",
       "    </tr>\n",
       "  </thead>\n",
       "  <tbody>\n",
       "    <tr>\n",
       "      <th>0</th>\n",
       "      <td>Jawahar Lal Nehru</td>\n",
       "      <td>(1889–1964)</td>\n",
       "      <td>15 August 1947 to 27 May 1964</td>\n",
       "      <td>The first prime minister of India and the long...</td>\n",
       "    </tr>\n",
       "    <tr>\n",
       "      <th>1</th>\n",
       "      <td>Gulzarilal Nanda (Acting)</td>\n",
       "      <td>(1898-1998)</td>\n",
       "      <td>16 years, 286 days</td>\n",
       "      <td>First acting PM of India</td>\n",
       "    </tr>\n",
       "    <tr>\n",
       "      <th>2</th>\n",
       "      <td>Lal Bahadur Shastri</td>\n",
       "      <td>(1904–1966)</td>\n",
       "      <td>27 May 1964 to 9 June 1964,</td>\n",
       "      <td>He has given the slogan of 'Jai Jawan Jai Kisa...</td>\n",
       "    </tr>\n",
       "    <tr>\n",
       "      <th>3</th>\n",
       "      <td>Gulzari Lal Nanda  (Acting)</td>\n",
       "      <td>(1898-1998)</td>\n",
       "      <td>13 days</td>\n",
       "      <td>-</td>\n",
       "    </tr>\n",
       "    <tr>\n",
       "      <th>4</th>\n",
       "      <td>Indira Gandhi</td>\n",
       "      <td>(1917–1984)</td>\n",
       "      <td>9 June 1964 to 11 January 1966</td>\n",
       "      <td>First female Prime Minister of India</td>\n",
       "    </tr>\n",
       "    <tr>\n",
       "      <th>5</th>\n",
       "      <td>Morarji Desai</td>\n",
       "      <td>(1896–1995)</td>\n",
       "      <td>1 year, 216 days</td>\n",
       "      <td>Oldest to become PM (81 years old) and first t...</td>\n",
       "    </tr>\n",
       "    <tr>\n",
       "      <th>6</th>\n",
       "      <td>Charan Singh</td>\n",
       "      <td>(1902–1987)</td>\n",
       "      <td>11 January 1966 to 24 January 1966</td>\n",
       "      <td>Only PM who did not face the Parliament</td>\n",
       "    </tr>\n",
       "    <tr>\n",
       "      <th>7</th>\n",
       "      <td>Indira Gandhi</td>\n",
       "      <td>(1917–1984)</td>\n",
       "      <td>13 days</td>\n",
       "      <td>The first lady who served as PM for the second...</td>\n",
       "    </tr>\n",
       "    <tr>\n",
       "      <th>8</th>\n",
       "      <td>Rajiv Gandhi</td>\n",
       "      <td>(1944–1991)</td>\n",
       "      <td>24 January 1966 to 24 March 1977</td>\n",
       "      <td>Youngest to become PM (40 years old)</td>\n",
       "    </tr>\n",
       "    <tr>\n",
       "      <th>9</th>\n",
       "      <td>V. P. Singh</td>\n",
       "      <td>(1931–2008)</td>\n",
       "      <td>11 years, 59 days</td>\n",
       "      <td>First PM to step down after a vote of no confi...</td>\n",
       "    </tr>\n",
       "    <tr>\n",
       "      <th>10</th>\n",
       "      <td>Chandra Shekhar</td>\n",
       "      <td>(1927–2007)</td>\n",
       "      <td>24 March 1977 to  28 July 1979</td>\n",
       "      <td>He belongs to  Samajwadi Janata Party</td>\n",
       "    </tr>\n",
       "    <tr>\n",
       "      <th>11</th>\n",
       "      <td>P. V. Narasimha Rao</td>\n",
       "      <td>(1921–2004)</td>\n",
       "      <td>2 year, 126 days</td>\n",
       "      <td>First PM from south India</td>\n",
       "    </tr>\n",
       "    <tr>\n",
       "      <th>12</th>\n",
       "      <td>Atal Bihari Vajpayee</td>\n",
       "      <td>(1924- 2018)</td>\n",
       "      <td>28 July 1979 to 14 January 1980</td>\n",
       "      <td>PM for shortest tenure</td>\n",
       "    </tr>\n",
       "    <tr>\n",
       "      <th>13</th>\n",
       "      <td>H. D. Deve Gowda</td>\n",
       "      <td>(born 1933)</td>\n",
       "      <td>170 days</td>\n",
       "      <td>He belongs to  Janata Dal</td>\n",
       "    </tr>\n",
       "    <tr>\n",
       "      <th>14</th>\n",
       "      <td>Inder Kumar Gujral</td>\n",
       "      <td>(1919–2012)</td>\n",
       "      <td>14 January 1980 to 31 October 1984</td>\n",
       "      <td>------</td>\n",
       "    </tr>\n",
       "    <tr>\n",
       "      <th>15</th>\n",
       "      <td>Atal Bihari Vajpayee</td>\n",
       "      <td>(1924-2018)</td>\n",
       "      <td>4 years, 291 days</td>\n",
       "      <td>The first non-congress PM who completed a ful...</td>\n",
       "    </tr>\n",
       "    <tr>\n",
       "      <th>16</th>\n",
       "      <td>Manmohan Singh</td>\n",
       "      <td>(born 1932)</td>\n",
       "      <td>31 October 1984 to 2 December 1989</td>\n",
       "      <td>First Sikh PM</td>\n",
       "    </tr>\n",
       "    <tr>\n",
       "      <th>17</th>\n",
       "      <td>Narendra Modi</td>\n",
       "      <td>(born 1950)</td>\n",
       "      <td>5 years, 32 days</td>\n",
       "      <td>4th Prime Minister of India who served two con...</td>\n",
       "    </tr>\n",
       "  </tbody>\n",
       "</table>\n",
       "</div>"
      ],
      "text/plain": [
       "                       PM Names     Born_Dead  \\\n",
       "0             Jawahar Lal Nehru   (1889–1964)   \n",
       "1     Gulzarilal Nanda (Acting)   (1898-1998)   \n",
       "2           Lal Bahadur Shastri   (1904–1966)   \n",
       "3   Gulzari Lal Nanda  (Acting)   (1898-1998)   \n",
       "4                 Indira Gandhi   (1917–1984)   \n",
       "5                 Morarji Desai   (1896–1995)   \n",
       "6                  Charan Singh   (1902–1987)   \n",
       "7                 Indira Gandhi   (1917–1984)   \n",
       "8                  Rajiv Gandhi   (1944–1991)   \n",
       "9                   V. P. Singh   (1931–2008)   \n",
       "10              Chandra Shekhar   (1927–2007)   \n",
       "11          P. V. Narasimha Rao   (1921–2004)   \n",
       "12         Atal Bihari Vajpayee  (1924- 2018)   \n",
       "13             H. D. Deve Gowda   (born 1933)   \n",
       "14           Inder Kumar Gujral   (1919–2012)   \n",
       "15         Atal Bihari Vajpayee   (1924-2018)   \n",
       "16               Manmohan Singh   (born 1932)   \n",
       "17                Narendra Modi   (born 1950)   \n",
       "\n",
       "                        Term of Office  \\\n",
       "0        15 August 1947 to 27 May 1964   \n",
       "1                   16 years, 286 days   \n",
       "2          27 May 1964 to 9 June 1964,   \n",
       "3                              13 days   \n",
       "4       9 June 1964 to 11 January 1966   \n",
       "5                     1 year, 216 days   \n",
       "6   11 January 1966 to 24 January 1966   \n",
       "7                              13 days   \n",
       "8     24 January 1966 to 24 March 1977   \n",
       "9                    11 years, 59 days   \n",
       "10     24 March 1977 to  28 July 1979    \n",
       "11                    2 year, 126 days   \n",
       "12     28 July 1979 to 14 January 1980   \n",
       "13                            170 days   \n",
       "14  14 January 1980 to 31 October 1984   \n",
       "15                   4 years, 291 days   \n",
       "16  31 October 1984 to 2 December 1989   \n",
       "17                    5 years, 32 days   \n",
       "\n",
       "                                              Remarks  \n",
       "0   The first prime minister of India and the long...  \n",
       "1                            First acting PM of India  \n",
       "2   He has given the slogan of 'Jai Jawan Jai Kisa...  \n",
       "3                                                   -  \n",
       "4                First female Prime Minister of India  \n",
       "5   Oldest to become PM (81 years old) and first t...  \n",
       "6             Only PM who did not face the Parliament  \n",
       "7   The first lady who served as PM for the second...  \n",
       "8                Youngest to become PM (40 years old)  \n",
       "9   First PM to step down after a vote of no confi...  \n",
       "10              He belongs to  Samajwadi Janata Party  \n",
       "11                          First PM from south India  \n",
       "12                             PM for shortest tenure  \n",
       "13                          He belongs to  Janata Dal  \n",
       "14                                             ------  \n",
       "15   The first non-congress PM who completed a ful...  \n",
       "16                                      First Sikh PM  \n",
       "17  4th Prime Minister of India who served two con...  "
      ]
     },
     "execution_count": 338,
     "metadata": {},
     "output_type": "execute_result"
    }
   ],
   "source": [
    "df=pd.DataFrame({'PM Names':Name,'Born_Dead':Born_Dead,'Term of Office':Tenure[0:18],'Remarks':Remark})\n",
    "df"
   ]
  },
  {
   "cell_type": "markdown",
   "id": "ce105ea8",
   "metadata": {},
   "source": [
    "# Question 10"
   ]
  },
  {
   "cell_type": "markdown",
   "id": "3b8243f4",
   "metadata": {},
   "source": [
    "Asked to skip"
   ]
  },
  {
   "cell_type": "code",
   "execution_count": null,
   "id": "2936ecca",
   "metadata": {},
   "outputs": [],
   "source": []
  }
 ],
 "metadata": {
  "kernelspec": {
   "display_name": "Python 3 (ipykernel)",
   "language": "python",
   "name": "python3"
  },
  "language_info": {
   "codemirror_mode": {
    "name": "ipython",
    "version": 3
   },
   "file_extension": ".py",
   "mimetype": "text/x-python",
   "name": "python",
   "nbconvert_exporter": "python",
   "pygments_lexer": "ipython3",
   "version": "3.9.12"
  }
 },
 "nbformat": 4,
 "nbformat_minor": 5
}
